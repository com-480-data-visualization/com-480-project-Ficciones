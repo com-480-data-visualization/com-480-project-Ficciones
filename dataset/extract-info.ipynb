{
 "cells": [
  {
   "cell_type": "code",
   "execution_count": 94,
   "id": "6c8ccd7b",
   "metadata": {},
   "outputs": [],
   "source": [
    "import fitz  # PyMuPDF\n",
    "import re\n",
    "from collections import defaultdict\n",
    "import pdfplumber\n",
    "import pandas as pd"
   ]
  },
  {
   "cell_type": "code",
   "execution_count": 95,
   "id": "f7b6ab3f",
   "metadata": {},
   "outputs": [],
   "source": [
    "cantons = [\n",
    "    \"Aargau\", \"Appenzell Ausserrhoden\", \"Appenzell Innerrhoden\", \"Basel-Landschaft\", \"Basel-Stadt\",\n",
    "    \"Bern\", \"Fribourg\", \"Geneva\", \"Glarus\", \"Graubünden\", \"Jura\", \"Lucerne\", \"Neuchâtel\",\n",
    "    \"Nidwalden\", \"Obwalden\", \"Saint Gallen\", \"Schaffhausen\", \"Schwyz\", \"Solothurn\", \"Thurgau\",\n",
    "    \"Ticino\", \"Uri\", \"Valais\", \"Vaud\", \"Zug\", \"Zurich\", \"Switzerland\"\n",
    "]"
   ]
  },
  {
   "cell_type": "code",
   "execution_count": 96,
   "id": "fb7488dc",
   "metadata": {},
   "outputs": [],
   "source": [
    "canton_pattern = re.compile(r'^(' + '|'.join(re.escape(c) for c in cantons) + r')\\b')"
   ]
  },
  {
   "cell_type": "code",
   "execution_count": 97,
   "id": "b15aff9c",
   "metadata": {},
   "outputs": [],
   "source": [
    "def extract_data_units(text):\n",
    "    lines = [line.strip() for line in text.splitlines() if line.strip()]\n",
    "    \n",
    "    data = []\n",
    "    i = 0\n",
    "    while i + 2 < len(lines):\n",
    "        title = lines[i]\n",
    "        year = lines[i + 1]\n",
    "        value = lines[i + 2]\n",
    "\n",
    "        # Check if year looks like a valid year (4 digits or a range)\n",
    "        if not re.match(r\"^\\d{4}$|^\\d{4}/\\d{2}$|^\\d{4}-\\d{4}$\", year):\n",
    "            i += 1  # Not a valid data block, skip one line\n",
    "            continue\n",
    "\n",
    "        # Add parsed result\n",
    "        data.append({\n",
    "            \"title\": title,\n",
    "            \"year\": year,\n",
    "            \"value\": value\n",
    "        })\n",
    "\n",
    "        i += 3  # Move to next block\n",
    "\n",
    "    return data"
   ]
  },
  {
   "cell_type": "code",
   "execution_count": 98,
   "id": "d5f165ac",
   "metadata": {},
   "outputs": [],
   "source": [
    "# Iterate through the pages\n",
    "\n",
    "def extract_file(file_year, start_page=None, end_page=None):\n",
    "    doc = fitz.open(f\"raw/{file_year}.pdf\")\n",
    "    if start_page is None:\n",
    "        start_page = 2\n",
    "    if end_page is None:\n",
    "        end_page = 1\n",
    "\n",
    "    df_list = []\n",
    "\n",
    "    for page_num in range(start_page, len(doc) - end_page):\n",
    "        text = doc.load_page(page_num).get_text()\n",
    "        lines = text.strip().splitlines()\n",
    "        for line in lines:\n",
    "            if canton_pattern.match(line):\n",
    "                # print(f\"Found canton on page {page_num}: {line}\")\n",
    "                canton_name = line.split()[0]\n",
    "                break\n",
    "        canton_data = extract_data_units(text)\n",
    "        canton_df = pd.DataFrame(canton_data)\n",
    "        canton_df['canton'] = canton_name\n",
    "        canton_df['file_year']  = file_year\n",
    "        df_list.append(canton_df)\n",
    "\n",
    "    # Concatenate all DataFrames into a single DataFrame\n",
    "    final_df = pd.concat(df_list, ignore_index=True)\n",
    "    return final_df\n"
   ]
  },
  {
   "cell_type": "code",
   "execution_count": 99,
   "id": "99e801fd",
   "metadata": {},
   "outputs": [],
   "source": [
    "normal_files = [2012, 2013, 2019, 2020, 2021]"
   ]
  },
  {
   "cell_type": "code",
   "execution_count": 100,
   "id": "08cb29db",
   "metadata": {},
   "outputs": [
    {
     "name": "stdout",
     "output_type": "stream",
     "text": [
      "Extracted data for 2012 with 1593 records.\n",
      "Extracted data for 2013 with 1593 records.\n",
      "Extracted data for 2019 with 1944 records.\n",
      "Extracted data for 2020 with 1944 records.\n",
      "Extracted data for 2021 with 1944 records.\n"
     ]
    }
   ],
   "source": [
    "files_info = []\n",
    "for file_year in normal_files:\n",
    "    file_info = extract_file(file_year)\n",
    "    files_info.append(file_info)\n",
    "    print(f\"Extracted data for {file_year} with {len(file_info)} records.\")"
   ]
  },
  {
   "cell_type": "code",
   "execution_count": 101,
   "id": "12428fe2",
   "metadata": {},
   "outputs": [],
   "source": [
    "files_info.append(extract_file(2014, start_page=5, end_page=5))"
   ]
  },
  {
   "cell_type": "code",
   "execution_count": null,
   "id": "b4764f7f",
   "metadata": {},
   "outputs": [],
   "source": [
    "files_info.append(extract_file(2015, start_page=5, end_page=4))"
   ]
  },
  {
   "cell_type": "code",
   "execution_count": null,
   "id": "4fad0912",
   "metadata": {},
   "outputs": [],
   "source": [
    "files_info.append(extract_file(2016, start_page=5, end_page=6))"
   ]
  },
  {
   "cell_type": "code",
   "execution_count": null,
   "id": "3ed8eb1f",
   "metadata": {},
   "outputs": [],
   "source": [
    "files_info.append(extract_file(2017, start_page=7, end_page=6))"
   ]
  },
  {
   "cell_type": "code",
   "execution_count": null,
   "id": "f400619c",
   "metadata": {},
   "outputs": [],
   "source": [
    "files_info.append(extract_file(2018, start_page=7, end_page=5))"
   ]
  },
  {
   "cell_type": "code",
   "execution_count": null,
   "id": "ec5d997d",
   "metadata": {},
   "outputs": [
    {
     "name": "stdout",
     "output_type": "stream",
     "text": [
      "<class 'pandas.core.frame.DataFrame'>\n",
      "RangeIndex: 18414 entries, 0 to 18413\n",
      "Data columns (total 5 columns):\n",
      " #   Column     Non-Null Count  Dtype \n",
      "---  ------     --------------  ----- \n",
      " 0   title      18414 non-null  object\n",
      " 1   year       18414 non-null  object\n",
      " 2   value      18414 non-null  object\n",
      " 3   canton     18414 non-null  object\n",
      " 4   file_year  18414 non-null  int64 \n",
      "dtypes: int64(1), object(4)\n",
      "memory usage: 719.4+ KB\n"
     ]
    }
   ],
   "source": [
    "# into a single DataFrame\n",
    "concated_df = pd.concat(files_info, ignore_index=True)\n",
    "concated_df.info()"
   ]
  },
  {
   "cell_type": "code",
   "execution_count": null,
   "id": "135b1404",
   "metadata": {},
   "outputs": [],
   "source": [
    "# to tsv\n",
    "concated_df.to_csv(\"processed/2012-2021.tsv\", sep=\"\\t\", index=False)"
   ]
  },
  {
   "cell_type": "code",
   "execution_count": null,
   "id": "9612ddfb",
   "metadata": {},
   "outputs": [],
   "source": []
  }
 ],
 "metadata": {
  "kernelspec": {
   "display_name": "ada",
   "language": "python",
   "name": "python3"
  },
  "language_info": {
   "codemirror_mode": {
    "name": "ipython",
    "version": 3
   },
   "file_extension": ".py",
   "mimetype": "text/x-python",
   "name": "python",
   "nbconvert_exporter": "python",
   "pygments_lexer": "ipython3",
   "version": "3.12.6"
  }
 },
 "nbformat": 4,
 "nbformat_minor": 5
}
