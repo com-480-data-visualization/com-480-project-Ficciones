{
 "cells": [
  {
   "cell_type": "code",
   "execution_count": 1,
   "id": "de8465d8",
   "metadata": {},
   "outputs": [],
   "source": [
    "import pandas as pd"
   ]
  },
  {
   "cell_type": "code",
   "execution_count": 2,
   "id": "b63e06c9",
   "metadata": {},
   "outputs": [
    {
     "name": "stdout",
     "output_type": "stream",
     "text": [
      "<class 'pandas.core.frame.DataFrame'>\n",
      "RangeIndex: 18414 entries, 0 to 18413\n",
      "Data columns (total 5 columns):\n",
      " #   Column     Non-Null Count  Dtype \n",
      "---  ------     --------------  ----- \n",
      " 0   title      18414 non-null  object\n",
      " 1   year       18414 non-null  object\n",
      " 2   value      18414 non-null  object\n",
      " 3   canton     18414 non-null  object\n",
      " 4   file_year  18414 non-null  int64 \n",
      "dtypes: int64(1), object(4)\n",
      "memory usage: 719.4+ KB\n"
     ]
    }
   ],
   "source": [
    "full_df = pd.read_csv('processed/2012-2021.tsv', sep='\\t')\n",
    "full_df.info()"
   ]
  },
  {
   "cell_type": "code",
   "execution_count": 3,
   "id": "48527cea",
   "metadata": {},
   "outputs": [
    {
     "data": {
      "text/html": [
       "<div>\n",
       "<style scoped>\n",
       "    .dataframe tbody tr th:only-of-type {\n",
       "        vertical-align: middle;\n",
       "    }\n",
       "\n",
       "    .dataframe tbody tr th {\n",
       "        vertical-align: top;\n",
       "    }\n",
       "\n",
       "    .dataframe thead th {\n",
       "        text-align: right;\n",
       "    }\n",
       "</style>\n",
       "<table border=\"1\" class=\"dataframe\">\n",
       "  <thead>\n",
       "    <tr style=\"text-align: right;\">\n",
       "      <th></th>\n",
       "      <th>title</th>\n",
       "      <th>year</th>\n",
       "      <th>value</th>\n",
       "      <th>canton</th>\n",
       "      <th>file_year</th>\n",
       "    </tr>\n",
       "  </thead>\n",
       "  <tbody>\n",
       "    <tr>\n",
       "      <th>0</th>\n",
       "      <td>Residents</td>\n",
       "      <td>2010</td>\n",
       "      <td>611,466</td>\n",
       "      <td>Aargau</td>\n",
       "      <td>2012</td>\n",
       "    </tr>\n",
       "    <tr>\n",
       "      <th>1</th>\n",
       "      <td>Population density per km2</td>\n",
       "      <td>2010</td>\n",
       "      <td>438</td>\n",
       "      <td>Aargau</td>\n",
       "      <td>2012</td>\n",
       "    </tr>\n",
       "    <tr>\n",
       "      <th>2</th>\n",
       "      <td>Change in the last 10 years in %</td>\n",
       "      <td>2000-2010</td>\n",
       "      <td>1.2</td>\n",
       "      <td>Aargau</td>\n",
       "      <td>2012</td>\n",
       "    </tr>\n",
       "    <tr>\n",
       "      <th>3</th>\n",
       "      <td>Through migration</td>\n",
       "      <td>2000-2010</td>\n",
       "      <td>9.5</td>\n",
       "      <td>Aargau</td>\n",
       "      <td>2012</td>\n",
       "    </tr>\n",
       "    <tr>\n",
       "      <th>4</th>\n",
       "      <td>Through natural increase</td>\n",
       "      <td>2000-2010</td>\n",
       "      <td>2.8</td>\n",
       "      <td>Aargau</td>\n",
       "      <td>2012</td>\n",
       "    </tr>\n",
       "  </tbody>\n",
       "</table>\n",
       "</div>"
      ],
      "text/plain": [
       "                              title       year    value  canton  file_year\n",
       "0                         Residents       2010  611,466  Aargau       2012\n",
       "1        Population density per km2       2010      438  Aargau       2012\n",
       "2  Change in the last 10 years in %  2000-2010      1.2  Aargau       2012\n",
       "3                 Through migration  2000-2010      9.5  Aargau       2012\n",
       "4          Through natural increase  2000-2010      2.8  Aargau       2012"
      ]
     },
     "execution_count": 3,
     "metadata": {},
     "output_type": "execute_result"
    }
   ],
   "source": [
    "full_df.head()"
   ]
  },
  {
   "cell_type": "code",
   "execution_count": 4,
   "id": "766ebd61",
   "metadata": {},
   "outputs": [],
   "source": [
    "def value_column(df, value, column='title'):\n",
    "    return df[df[column] == value].copy().sort_values(by='year').reset_index(drop=True)"
   ]
  },
  {
   "cell_type": "code",
   "execution_count": 5,
   "id": "a52af873",
   "metadata": {},
   "outputs": [],
   "source": [
    "population_df = full_df[full_df['title'] == 'Residents'].reset_index(drop=True)"
   ]
  },
  {
   "cell_type": "code",
   "execution_count": 6,
   "id": "a41e087b",
   "metadata": {},
   "outputs": [
    {
     "data": {
      "text/html": [
       "<div>\n",
       "<style scoped>\n",
       "    .dataframe tbody tr th:only-of-type {\n",
       "        vertical-align: middle;\n",
       "    }\n",
       "\n",
       "    .dataframe tbody tr th {\n",
       "        vertical-align: top;\n",
       "    }\n",
       "\n",
       "    .dataframe thead th {\n",
       "        text-align: right;\n",
       "    }\n",
       "</style>\n",
       "<table border=\"1\" class=\"dataframe\">\n",
       "  <thead>\n",
       "    <tr style=\"text-align: right;\">\n",
       "      <th></th>\n",
       "      <th>title</th>\n",
       "      <th>year</th>\n",
       "      <th>value</th>\n",
       "      <th>canton</th>\n",
       "      <th>file_year</th>\n",
       "    </tr>\n",
       "  </thead>\n",
       "  <tbody>\n",
       "    <tr>\n",
       "      <th>0</th>\n",
       "      <td>Residents</td>\n",
       "      <td>2010</td>\n",
       "      <td>611,466</td>\n",
       "      <td>Aargau</td>\n",
       "      <td>2012</td>\n",
       "    </tr>\n",
       "    <tr>\n",
       "      <th>1</th>\n",
       "      <td>Residents</td>\n",
       "      <td>2010</td>\n",
       "      <td>53,017</td>\n",
       "      <td>Appenzell Ausserrhoden</td>\n",
       "      <td>2012</td>\n",
       "    </tr>\n",
       "    <tr>\n",
       "      <th>2</th>\n",
       "      <td>Residents</td>\n",
       "      <td>2010</td>\n",
       "      <td>15,688</td>\n",
       "      <td>Appenzell Innerrhoden</td>\n",
       "      <td>2012</td>\n",
       "    </tr>\n",
       "    <tr>\n",
       "      <th>3</th>\n",
       "      <td>Residents</td>\n",
       "      <td>2010</td>\n",
       "      <td>274,404</td>\n",
       "      <td>Basel-Landschaft</td>\n",
       "      <td>2012</td>\n",
       "    </tr>\n",
       "    <tr>\n",
       "      <th>4</th>\n",
       "      <td>Residents</td>\n",
       "      <td>2010</td>\n",
       "      <td>184,950</td>\n",
       "      <td>Basel-Stadt</td>\n",
       "      <td>2012</td>\n",
       "    </tr>\n",
       "  </tbody>\n",
       "</table>\n",
       "</div>"
      ],
      "text/plain": [
       "       title  year    value                  canton  file_year\n",
       "0  Residents  2010  611,466                  Aargau       2012\n",
       "1  Residents  2010   53,017  Appenzell Ausserrhoden       2012\n",
       "2  Residents  2010   15,688   Appenzell Innerrhoden       2012\n",
       "3  Residents  2010  274,404        Basel-Landschaft       2012\n",
       "4  Residents  2010  184,950             Basel-Stadt       2012"
      ]
     },
     "execution_count": 6,
     "metadata": {},
     "output_type": "execute_result"
    }
   ],
   "source": [
    "population_df.head()"
   ]
  },
  {
   "cell_type": "code",
   "execution_count": 7,
   "id": "b632d932",
   "metadata": {},
   "outputs": [
    {
     "data": {
      "text/plain": [
       "year\n",
       "2010    27\n",
       "2011    27\n",
       "2012    27\n",
       "2013    27\n",
       "2014    27\n",
       "2015    27\n",
       "2016    27\n",
       "2017    27\n",
       "2018    27\n",
       "2019    27\n",
       "Name: count, dtype: int64"
      ]
     },
     "execution_count": 7,
     "metadata": {},
     "output_type": "execute_result"
    }
   ],
   "source": [
    "population_df.sort_values(by=['year'])['year'].value_counts()"
   ]
  },
  {
   "cell_type": "code",
   "execution_count": 8,
   "id": "7e8b88ef",
   "metadata": {},
   "outputs": [],
   "source": [
    "population_df.to_csv('processed/population.tsv', sep='\\t', index=False)"
   ]
  },
  {
   "cell_type": "code",
   "execution_count": 9,
   "id": "6553b4cb",
   "metadata": {},
   "outputs": [],
   "source": [
    "population_density_df = full_df[(full_df['title'] == 'Population density per km2') | (full_df['title'] == 'Population density per km²')].reset_index(drop=True).sort_values(by=['year'])"
   ]
  },
  {
   "cell_type": "code",
   "execution_count": 10,
   "id": "42ec8537",
   "metadata": {},
   "outputs": [
    {
     "data": {
      "text/plain": [
       "year\n",
       "2010    27\n",
       "2011    27\n",
       "2012    27\n",
       "2013    27\n",
       "2014    27\n",
       "2015    27\n",
       "2016    27\n",
       "2017    27\n",
       "2018    27\n",
       "2019    27\n",
       "Name: count, dtype: int64"
      ]
     },
     "execution_count": 10,
     "metadata": {},
     "output_type": "execute_result"
    }
   ],
   "source": [
    "population_density_df['year'].value_counts()"
   ]
  },
  {
   "cell_type": "code",
   "execution_count": 11,
   "id": "eb5fb141",
   "metadata": {},
   "outputs": [
    {
     "data": {
      "text/html": [
       "<div>\n",
       "<style scoped>\n",
       "    .dataframe tbody tr th:only-of-type {\n",
       "        vertical-align: middle;\n",
       "    }\n",
       "\n",
       "    .dataframe tbody tr th {\n",
       "        vertical-align: top;\n",
       "    }\n",
       "\n",
       "    .dataframe thead th {\n",
       "        text-align: right;\n",
       "    }\n",
       "</style>\n",
       "<table border=\"1\" class=\"dataframe\">\n",
       "  <thead>\n",
       "    <tr style=\"text-align: right;\">\n",
       "      <th></th>\n",
       "      <th>title</th>\n",
       "      <th>year</th>\n",
       "      <th>value</th>\n",
       "      <th>canton</th>\n",
       "      <th>file_year</th>\n",
       "    </tr>\n",
       "  </thead>\n",
       "  <tbody>\n",
       "    <tr>\n",
       "      <th>0</th>\n",
       "      <td>Population density per km2</td>\n",
       "      <td>2010</td>\n",
       "      <td>438</td>\n",
       "      <td>Aargau</td>\n",
       "      <td>2012</td>\n",
       "    </tr>\n",
       "    <tr>\n",
       "      <th>26</th>\n",
       "      <td>Population density per km2</td>\n",
       "      <td>2010</td>\n",
       "      <td>197</td>\n",
       "      <td>Switzerland</td>\n",
       "      <td>2012</td>\n",
       "    </tr>\n",
       "    <tr>\n",
       "      <th>25</th>\n",
       "      <td>Population density per km2</td>\n",
       "      <td>2010</td>\n",
       "      <td>827</td>\n",
       "      <td>Zurich</td>\n",
       "      <td>2012</td>\n",
       "    </tr>\n",
       "    <tr>\n",
       "      <th>24</th>\n",
       "      <td>Population density per km2</td>\n",
       "      <td>2010</td>\n",
       "      <td>546</td>\n",
       "      <td>Zug</td>\n",
       "      <td>2012</td>\n",
       "    </tr>\n",
       "    <tr>\n",
       "      <th>23</th>\n",
       "      <td>Population density per km2</td>\n",
       "      <td>2010</td>\n",
       "      <td>253</td>\n",
       "      <td>Vaud</td>\n",
       "      <td>2012</td>\n",
       "    </tr>\n",
       "  </tbody>\n",
       "</table>\n",
       "</div>"
      ],
      "text/plain": [
       "                         title  year value       canton  file_year\n",
       "0   Population density per km2  2010   438       Aargau       2012\n",
       "26  Population density per km2  2010   197  Switzerland       2012\n",
       "25  Population density per km2  2010   827       Zurich       2012\n",
       "24  Population density per km2  2010   546          Zug       2012\n",
       "23  Population density per km2  2010   253         Vaud       2012"
      ]
     },
     "execution_count": 11,
     "metadata": {},
     "output_type": "execute_result"
    }
   ],
   "source": [
    "population_density_df.head()"
   ]
  },
  {
   "cell_type": "code",
   "execution_count": 12,
   "id": "b542e87c",
   "metadata": {},
   "outputs": [],
   "source": [
    "population_density_df.to_csv('processed/population_density.tsv', sep='\\t', index=False)"
   ]
  },
  {
   "cell_type": "code",
   "execution_count": 13,
   "id": "6b134a8b",
   "metadata": {},
   "outputs": [],
   "source": [
    "df_0_19 = value_column(full_df, '0-19 years')\n",
    "df_20_64 = value_column(full_df, '20-64 years')\n",
    "df_65_plus = pd.concat([value_column(full_df, '65 years or over'), value_column(full_df, '>64 years')], ignore_index=True).reset_index(drop=True)\n"
   ]
  },
  {
   "cell_type": "code",
   "execution_count": 14,
   "id": "9c806fd8",
   "metadata": {},
   "outputs": [
    {
     "data": {
      "text/plain": [
       "(270, 270, 270)"
      ]
     },
     "execution_count": 14,
     "metadata": {},
     "output_type": "execute_result"
    }
   ],
   "source": [
    "len(df_0_19), len(df_20_64), len(df_65_plus)"
   ]
  },
  {
   "cell_type": "code",
   "execution_count": 15,
   "id": "21bfd3c4",
   "metadata": {},
   "outputs": [],
   "source": [
    "# save to tsv\n",
    "df_0_19.to_csv('processed/age_0_19.tsv', sep='\\t', index=False)\n",
    "df_20_64.to_csv('processed/age_20_64.tsv', sep='\\t', index=False)\n",
    "df_65_plus.to_csv('processed/age_65_plus.tsv', sep='\\t', index=False)"
   ]
  },
  {
   "cell_type": "code",
   "execution_count": 16,
   "id": "ede6cdb8",
   "metadata": {},
   "outputs": [
    {
     "data": {
      "text/plain": [
       "year\n",
       "2010    27\n",
       "2011    27\n",
       "2012    27\n",
       "2013    27\n",
       "2014    27\n",
       "2015    27\n",
       "2016    27\n",
       "2017    27\n",
       "2018    27\n",
       "2019    27\n",
       "Name: count, dtype: int64"
      ]
     },
     "execution_count": 16,
     "metadata": {},
     "output_type": "execute_result"
    }
   ],
   "source": [
    "urban_population_proportion_df = value_column(full_df, 'Urban population in %')\n",
    "urban_population_proportion_df['year'].value_counts()"
   ]
  },
  {
   "cell_type": "code",
   "execution_count": 17,
   "id": "1b25bbfd",
   "metadata": {},
   "outputs": [],
   "source": [
    "urban_population_proportion_df.to_csv('processed/urban_population_proportion.tsv', sep='\\t', index=False)"
   ]
  },
  {
   "cell_type": "code",
   "execution_count": 18,
   "id": "bb64226f",
   "metadata": {},
   "outputs": [
    {
     "data": {
      "text/plain": [
       "year\n",
       "2013    27\n",
       "2014    27\n",
       "2015    27\n",
       "2016    27\n",
       "2017    27\n",
       "2018    27\n",
       "2019    27\n",
       "Name: count, dtype: int64"
      ]
     },
     "execution_count": 18,
     "metadata": {},
     "output_type": "execute_result"
    }
   ],
   "source": [
    "marriage_rate = value_column(full_df, 'Crude marriage rate')\n",
    "marriage_rate['year'].value_counts()"
   ]
  },
  {
   "cell_type": "code",
   "execution_count": 19,
   "id": "e4de6c56",
   "metadata": {},
   "outputs": [],
   "source": [
    "marriage_rate.to_csv('processed/marriage_rate.tsv', sep='\\t', index=False)"
   ]
  },
  {
   "cell_type": "code",
   "execution_count": 20,
   "id": "6eaad8ca",
   "metadata": {},
   "outputs": [
    {
     "data": {
      "text/plain": [
       "year\n",
       "2013    27\n",
       "2014    27\n",
       "2015    27\n",
       "2016    27\n",
       "2017    27\n",
       "2018    27\n",
       "2019    27\n",
       "Name: count, dtype: int64"
      ]
     },
     "execution_count": 20,
     "metadata": {},
     "output_type": "execute_result"
    }
   ],
   "source": [
    "divorce_rate = value_column(full_df, 'Crude divorce rate')\n",
    "divorce_rate['year'].value_counts()"
   ]
  },
  {
   "cell_type": "code",
   "execution_count": 21,
   "id": "0fa4628f",
   "metadata": {},
   "outputs": [],
   "source": [
    "divorce_rate.to_csv('processed/divorce_rate.tsv', sep='\\t', index=False)"
   ]
  },
  {
   "cell_type": "code",
   "execution_count": 22,
   "id": "4f63a5dc",
   "metadata": {},
   "outputs": [
    {
     "data": {
      "text/plain": [
       "year\n",
       "2013    27\n",
       "2014    27\n",
       "2015    27\n",
       "2016    27\n",
       "2017    27\n",
       "2018    27\n",
       "2019    27\n",
       "Name: count, dtype: int64"
      ]
     },
     "execution_count": 22,
     "metadata": {},
     "output_type": "execute_result"
    }
   ],
   "source": [
    "birth_rate = value_column(full_df, 'Crude birth rate')\n",
    "birth_rate['year'].value_counts()"
   ]
  },
  {
   "cell_type": "code",
   "execution_count": 23,
   "id": "ecdff8fa",
   "metadata": {},
   "outputs": [],
   "source": [
    "birth_rate.to_csv('processed/birth_rate.tsv', sep='\\t', index=False)"
   ]
  },
  {
   "cell_type": "code",
   "execution_count": 24,
   "id": "6828bb57",
   "metadata": {},
   "outputs": [
    {
     "data": {
      "text/plain": [
       "year\n",
       "2013    27\n",
       "2014    27\n",
       "2015    27\n",
       "2016    27\n",
       "2017    27\n",
       "2018    27\n",
       "2019    27\n",
       "Name: count, dtype: int64"
      ]
     },
     "execution_count": 24,
     "metadata": {},
     "output_type": "execute_result"
    }
   ],
   "source": [
    "mortality_rate = value_column(full_df, 'Crude mortality rate')\n",
    "mortality_rate['year'].value_counts()"
   ]
  },
  {
   "cell_type": "code",
   "execution_count": 25,
   "id": "3c09445f",
   "metadata": {},
   "outputs": [],
   "source": [
    "mortality_rate.to_csv('processed/mortality_rate.tsv', sep='\\t', index=False)"
   ]
  },
  {
   "cell_type": "code",
   "execution_count": 26,
   "id": "4cb756a7",
   "metadata": {},
   "outputs": [
    {
     "data": {
      "text/plain": [
       "year\n",
       "2012         54\n",
       "2000         27\n",
       "2010         27\n",
       "2013         27\n",
       "2014         27\n",
       "2016         27\n",
       "2016-2018    27\n",
       "2017         27\n",
       "2019         27\n",
       "Name: count, dtype: int64"
      ]
     },
     "execution_count": 26,
     "metadata": {},
     "output_type": "execute_result"
    }
   ],
   "source": [
    "german = value_column(full_df, 'German')\n",
    "german['year'].value_counts()"
   ]
  },
  {
   "cell_type": "code",
   "execution_count": 27,
   "id": "2640c69a",
   "metadata": {},
   "outputs": [
    {
     "data": {
      "text/plain": [
       "file_year\n",
       "2014    27\n",
       "2015    27\n",
       "Name: count, dtype: int64"
      ]
     },
     "execution_count": 27,
     "metadata": {},
     "output_type": "execute_result"
    }
   ],
   "source": [
    "german[german['year'] == '2012']['file_year'].value_counts()"
   ]
  },
  {
   "cell_type": "code",
   "execution_count": 28,
   "id": "fe08865e",
   "metadata": {},
   "outputs": [
    {
     "data": {
      "text/plain": [
       "year\n",
       "2000         27\n",
       "2010         27\n",
       "2012         27\n",
       "2013         27\n",
       "2014         27\n",
       "2016         27\n",
       "2016-2018    27\n",
       "2017         27\n",
       "2019         27\n",
       "Name: count, dtype: int64"
      ]
     },
     "execution_count": 28,
     "metadata": {},
     "output_type": "execute_result"
    }
   ],
   "source": [
    "# drop rows with file_year == 2014\n",
    "german = german[german['file_year'] != 2014].reset_index(drop=True).sort_values(by='year')\n",
    "german['year'].value_counts()"
   ]
  },
  {
   "cell_type": "code",
   "execution_count": 29,
   "id": "4874f2e3",
   "metadata": {},
   "outputs": [],
   "source": [
    "german.to_csv('processed/german.tsv', sep='\\t', index=False)"
   ]
  },
  {
   "cell_type": "code",
   "execution_count": 30,
   "id": "b73a5734",
   "metadata": {},
   "outputs": [
    {
     "data": {
      "text/plain": [
       "year\n",
       "2012         54\n",
       "2000         27\n",
       "2010         27\n",
       "2013         27\n",
       "2014         27\n",
       "2016         27\n",
       "2016-2018    27\n",
       "2017         27\n",
       "2019         27\n",
       "Name: count, dtype: int64"
      ]
     },
     "execution_count": 30,
     "metadata": {},
     "output_type": "execute_result"
    }
   ],
   "source": [
    "# do the same for French, English, Italian and Romansh\n",
    "french = value_column(full_df, 'French')\n",
    "french['year'].value_counts()"
   ]
  },
  {
   "cell_type": "code",
   "execution_count": 31,
   "id": "6afa8b36",
   "metadata": {},
   "outputs": [
    {
     "data": {
      "text/plain": [
       "file_year\n",
       "2014    27\n",
       "2015    27\n",
       "Name: count, dtype: int64"
      ]
     },
     "execution_count": 31,
     "metadata": {},
     "output_type": "execute_result"
    }
   ],
   "source": [
    "french[french['year'] == '2012']['file_year'].value_counts()"
   ]
  },
  {
   "cell_type": "code",
   "execution_count": 32,
   "id": "5bd62900",
   "metadata": {},
   "outputs": [
    {
     "data": {
      "text/plain": [
       "year\n",
       "2000         27\n",
       "2010         27\n",
       "2012         27\n",
       "2013         27\n",
       "2014         27\n",
       "2016         27\n",
       "2016-2018    27\n",
       "2017         27\n",
       "2019         27\n",
       "Name: count, dtype: int64"
      ]
     },
     "execution_count": 32,
     "metadata": {},
     "output_type": "execute_result"
    }
   ],
   "source": [
    "# drop \n",
    "french = french[french['file_year'] != 2014].reset_index(drop=True).sort_values(by='year')\n",
    "french['year'].value_counts()"
   ]
  },
  {
   "cell_type": "code",
   "execution_count": 33,
   "id": "7793cdb4",
   "metadata": {},
   "outputs": [],
   "source": [
    "french.to_csv('processed/french.tsv', sep='\\t', index=False)"
   ]
  },
  {
   "cell_type": "code",
   "execution_count": 34,
   "id": "ba7f068a",
   "metadata": {},
   "outputs": [
    {
     "data": {
      "text/plain": [
       "year\n",
       "2012         54\n",
       "2010         27\n",
       "2013         27\n",
       "2014         27\n",
       "2016         27\n",
       "2016-2018    27\n",
       "2017         27\n",
       "2019         27\n",
       "Name: count, dtype: int64"
      ]
     },
     "execution_count": 34,
     "metadata": {},
     "output_type": "execute_result"
    }
   ],
   "source": [
    "english = value_column(full_df, 'English')\n",
    "english['year'].value_counts()"
   ]
  },
  {
   "cell_type": "code",
   "execution_count": 35,
   "id": "fb291f12",
   "metadata": {},
   "outputs": [
    {
     "data": {
      "text/plain": [
       "file_year\n",
       "2014    27\n",
       "2015    27\n",
       "Name: count, dtype: int64"
      ]
     },
     "execution_count": 35,
     "metadata": {},
     "output_type": "execute_result"
    }
   ],
   "source": [
    "english[english['year'] == '2012']['file_year'].value_counts()\n"
   ]
  },
  {
   "cell_type": "code",
   "execution_count": 36,
   "id": "5706fa9b",
   "metadata": {},
   "outputs": [
    {
     "data": {
      "text/plain": [
       "year\n",
       "2010         27\n",
       "2012         27\n",
       "2013         27\n",
       "2014         27\n",
       "2016         27\n",
       "2016-2018    27\n",
       "2017         27\n",
       "2019         27\n",
       "Name: count, dtype: int64"
      ]
     },
     "execution_count": 36,
     "metadata": {},
     "output_type": "execute_result"
    }
   ],
   "source": [
    "# drop the 2014 row\n",
    "english = english[english['file_year'] != 2014].reset_index(drop=True).sort_values(by='year')\n",
    "english['year'].value_counts()"
   ]
  },
  {
   "cell_type": "code",
   "execution_count": 37,
   "id": "d35e15f3",
   "metadata": {},
   "outputs": [],
   "source": [
    "english.to_csv('processed/english.tsv', sep='\\t', index=False)"
   ]
  },
  {
   "cell_type": "code",
   "execution_count": 38,
   "id": "e430ca56",
   "metadata": {},
   "outputs": [
    {
     "data": {
      "text/plain": [
       "year\n",
       "2012         54\n",
       "2000         27\n",
       "2010         27\n",
       "2013         27\n",
       "2014         27\n",
       "2016         27\n",
       "2016-2018    27\n",
       "2017         27\n",
       "2019         27\n",
       "Name: count, dtype: int64"
      ]
     },
     "execution_count": 38,
     "metadata": {},
     "output_type": "execute_result"
    }
   ],
   "source": [
    "italian = value_column(full_df, 'Italian')\n",
    "italian['year'].value_counts()"
   ]
  },
  {
   "cell_type": "code",
   "execution_count": 39,
   "id": "400436bb",
   "metadata": {},
   "outputs": [
    {
     "data": {
      "text/plain": [
       "file_year\n",
       "2014    27\n",
       "2015    27\n",
       "Name: count, dtype: int64"
      ]
     },
     "execution_count": 39,
     "metadata": {},
     "output_type": "execute_result"
    }
   ],
   "source": [
    "italian[italian['year'] == '2012']['file_year'].value_counts()"
   ]
  },
  {
   "cell_type": "code",
   "execution_count": 40,
   "id": "349bdf82",
   "metadata": {},
   "outputs": [
    {
     "data": {
      "text/plain": [
       "year\n",
       "2000         27\n",
       "2010         27\n",
       "2012         27\n",
       "2013         27\n",
       "2014         27\n",
       "2016         27\n",
       "2016-2018    27\n",
       "2017         27\n",
       "2019         27\n",
       "Name: count, dtype: int64"
      ]
     },
     "execution_count": 40,
     "metadata": {},
     "output_type": "execute_result"
    }
   ],
   "source": [
    "italian = italian[italian['file_year'] != 2014].reset_index(drop=True).sort_values(by='year')\n",
    "italian['year'].value_counts()"
   ]
  },
  {
   "cell_type": "code",
   "execution_count": 41,
   "id": "20fb340a",
   "metadata": {},
   "outputs": [],
   "source": [
    "italian.to_csv('processed/italian.tsv', sep='\\t', index=False)"
   ]
  },
  {
   "cell_type": "code",
   "execution_count": 42,
   "id": "0e5b096b",
   "metadata": {},
   "outputs": [
    {
     "data": {
      "text/plain": [
       "year\n",
       "2012         54\n",
       "2000         27\n",
       "2010         27\n",
       "2013         27\n",
       "2014         27\n",
       "2016         27\n",
       "2016-2018    27\n",
       "2017         27\n",
       "2019         27\n",
       "Name: count, dtype: int64"
      ]
     },
     "execution_count": 42,
     "metadata": {},
     "output_type": "execute_result"
    }
   ],
   "source": [
    "romansh = value_column(full_df, 'Romansh')\n",
    "romansh['year'].value_counts()"
   ]
  },
  {
   "cell_type": "code",
   "execution_count": 43,
   "id": "ef6ff685",
   "metadata": {},
   "outputs": [
    {
     "data": {
      "text/plain": [
       "file_year\n",
       "2014    27\n",
       "2015    27\n",
       "Name: count, dtype: int64"
      ]
     },
     "execution_count": 43,
     "metadata": {},
     "output_type": "execute_result"
    }
   ],
   "source": [
    "romansh[romansh['year'] == '2012']['file_year'].value_counts()"
   ]
  },
  {
   "cell_type": "code",
   "execution_count": 44,
   "id": "774e2c87",
   "metadata": {},
   "outputs": [
    {
     "data": {
      "text/plain": [
       "year\n",
       "2000         27\n",
       "2010         27\n",
       "2012         27\n",
       "2013         27\n",
       "2014         27\n",
       "2016         27\n",
       "2016-2018    27\n",
       "2017         27\n",
       "2019         27\n",
       "Name: count, dtype: int64"
      ]
     },
     "execution_count": 44,
     "metadata": {},
     "output_type": "execute_result"
    }
   ],
   "source": [
    "romansh = romansh[romansh['file_year'] != 2014].reset_index(drop=True).sort_values(by='year')\n",
    "romansh['year'].value_counts()"
   ]
  },
  {
   "cell_type": "code",
   "execution_count": 45,
   "id": "407e502d",
   "metadata": {},
   "outputs": [],
   "source": [
    "romansh.to_csv('processed/romansh.tsv', sep='\\t', index=False)"
   ]
  },
  {
   "cell_type": "code",
   "execution_count": 46,
   "id": "2019cf0c",
   "metadata": {},
   "outputs": [],
   "source": [
    "roman_catholic = value_column(full_df, 'Roman Catholic')\n",
    "roman_catholic = roman_catholic[roman_catholic['file_year'] != 2014].reset_index(drop=True).sort_values(by='year')"
   ]
  },
  {
   "cell_type": "code",
   "execution_count": 47,
   "id": "8b8be565",
   "metadata": {},
   "outputs": [],
   "source": [
    "protestant_reformed = value_column(full_df, 'Protestant Reformed')\n",
    "protestant_reformed = protestant_reformed[protestant_reformed['file_year'] != 2014].reset_index(drop=True).sort_values(by='year')"
   ]
  },
  {
   "cell_type": "code",
   "execution_count": 48,
   "id": "01d0d86d",
   "metadata": {},
   "outputs": [],
   "source": [
    "no_affiliation = value_column(full_df, 'No affiliation')\n",
    "no_affiliation = no_affiliation[no_affiliation['file_year'] != 2014].reset_index(drop=True).sort_values(by='year')"
   ]
  },
  {
   "cell_type": "code",
   "execution_count": 49,
   "id": "86a63dbb",
   "metadata": {},
   "outputs": [],
   "source": [
    "roman_catholic.to_csv('processed/roman_catholic.tsv', sep='\\t', index=False)\n",
    "protestant_reformed.to_csv('processed/protestant_reformed.tsv', sep='\\t', index=False)\n",
    "no_affiliation.to_csv('processed/no_affiliation.tsv', sep='\\t', index=False)"
   ]
  },
  {
   "cell_type": "code",
   "execution_count": 50,
   "id": "3514d385",
   "metadata": {},
   "outputs": [
    {
     "data": {
      "text/html": [
       "<div>\n",
       "<style scoped>\n",
       "    .dataframe tbody tr th:only-of-type {\n",
       "        vertical-align: middle;\n",
       "    }\n",
       "\n",
       "    .dataframe tbody tr th {\n",
       "        vertical-align: top;\n",
       "    }\n",
       "\n",
       "    .dataframe thead th {\n",
       "        text-align: right;\n",
       "    }\n",
       "</style>\n",
       "<table border=\"1\" class=\"dataframe\">\n",
       "  <thead>\n",
       "    <tr style=\"text-align: right;\">\n",
       "      <th></th>\n",
       "      <th>title</th>\n",
       "      <th>year</th>\n",
       "      <th>value</th>\n",
       "      <th>canton</th>\n",
       "      <th>file_year</th>\n",
       "    </tr>\n",
       "  </thead>\n",
       "  <tbody>\n",
       "    <tr>\n",
       "      <th>0</th>\n",
       "      <td>Total surface area in km²</td>\n",
       "      <td>2016</td>\n",
       "      <td>1,404.0</td>\n",
       "      <td>Aargau</td>\n",
       "      <td>2021</td>\n",
       "    </tr>\n",
       "    <tr>\n",
       "      <th>1</th>\n",
       "      <td>Total surface area in km²</td>\n",
       "      <td>2016</td>\n",
       "      <td>3,212.2</td>\n",
       "      <td>Vaud</td>\n",
       "      <td>2021</td>\n",
       "    </tr>\n",
       "    <tr>\n",
       "      <th>2</th>\n",
       "      <td>Total surface area in km²</td>\n",
       "      <td>2016</td>\n",
       "      <td>5,224.8</td>\n",
       "      <td>Valais</td>\n",
       "      <td>2021</td>\n",
       "    </tr>\n",
       "    <tr>\n",
       "      <th>3</th>\n",
       "      <td>Total surface area in km²</td>\n",
       "      <td>2016</td>\n",
       "      <td>1,076.3</td>\n",
       "      <td>Uri</td>\n",
       "      <td>2021</td>\n",
       "    </tr>\n",
       "    <tr>\n",
       "      <th>4</th>\n",
       "      <td>Total surface area in km²</td>\n",
       "      <td>2016</td>\n",
       "      <td>2,812.3</td>\n",
       "      <td>Ticino</td>\n",
       "      <td>2021</td>\n",
       "    </tr>\n",
       "    <tr>\n",
       "      <th>5</th>\n",
       "      <td>Total surface area in km²</td>\n",
       "      <td>2016</td>\n",
       "      <td>991.5</td>\n",
       "      <td>Thurgau</td>\n",
       "      <td>2021</td>\n",
       "    </tr>\n",
       "    <tr>\n",
       "      <th>6</th>\n",
       "      <td>Total surface area in km²</td>\n",
       "      <td>2016</td>\n",
       "      <td>790.4</td>\n",
       "      <td>Solothurn</td>\n",
       "      <td>2021</td>\n",
       "    </tr>\n",
       "    <tr>\n",
       "      <th>7</th>\n",
       "      <td>Total surface area in km²</td>\n",
       "      <td>2016</td>\n",
       "      <td>908.0</td>\n",
       "      <td>Schwyz</td>\n",
       "      <td>2021</td>\n",
       "    </tr>\n",
       "    <tr>\n",
       "      <th>8</th>\n",
       "      <td>Total surface area in km²</td>\n",
       "      <td>2016</td>\n",
       "      <td>298.4</td>\n",
       "      <td>Schaffhausen</td>\n",
       "      <td>2021</td>\n",
       "    </tr>\n",
       "    <tr>\n",
       "      <th>9</th>\n",
       "      <td>Total surface area in km²</td>\n",
       "      <td>2016</td>\n",
       "      <td>2,030.7</td>\n",
       "      <td>Saint Gallen</td>\n",
       "      <td>2021</td>\n",
       "    </tr>\n",
       "    <tr>\n",
       "      <th>10</th>\n",
       "      <td>Total surface area in km²</td>\n",
       "      <td>2016</td>\n",
       "      <td>490.6</td>\n",
       "      <td>Obwalden</td>\n",
       "      <td>2021</td>\n",
       "    </tr>\n",
       "    <tr>\n",
       "      <th>11</th>\n",
       "      <td>Total surface area in km²</td>\n",
       "      <td>2016</td>\n",
       "      <td>275.9</td>\n",
       "      <td>Nidwalden</td>\n",
       "      <td>2021</td>\n",
       "    </tr>\n",
       "    <tr>\n",
       "      <th>12</th>\n",
       "      <td>Total surface area in km²</td>\n",
       "      <td>2016</td>\n",
       "      <td>1,728.9</td>\n",
       "      <td>Zurich</td>\n",
       "      <td>2021</td>\n",
       "    </tr>\n",
       "    <tr>\n",
       "      <th>13</th>\n",
       "      <td>Total surface area in km²</td>\n",
       "      <td>2016</td>\n",
       "      <td>802.3</td>\n",
       "      <td>Neuchâtel</td>\n",
       "      <td>2021</td>\n",
       "    </tr>\n",
       "    <tr>\n",
       "      <th>14</th>\n",
       "      <td>Total surface area in km²</td>\n",
       "      <td>2016</td>\n",
       "      <td>838.6</td>\n",
       "      <td>Jura</td>\n",
       "      <td>2021</td>\n",
       "    </tr>\n",
       "    <tr>\n",
       "      <th>15</th>\n",
       "      <td>Total surface area in km²</td>\n",
       "      <td>2016</td>\n",
       "      <td>7,105.0</td>\n",
       "      <td>Graubünden</td>\n",
       "      <td>2021</td>\n",
       "    </tr>\n",
       "    <tr>\n",
       "      <th>16</th>\n",
       "      <td>Total surface area in km²</td>\n",
       "      <td>2016</td>\n",
       "      <td>685.4</td>\n",
       "      <td>Glarus</td>\n",
       "      <td>2021</td>\n",
       "    </tr>\n",
       "    <tr>\n",
       "      <th>17</th>\n",
       "      <td>Total surface area in km²</td>\n",
       "      <td>2016</td>\n",
       "      <td>282.3</td>\n",
       "      <td>Geneva</td>\n",
       "      <td>2021</td>\n",
       "    </tr>\n",
       "    <tr>\n",
       "      <th>18</th>\n",
       "      <td>Total surface area in km²</td>\n",
       "      <td>2016</td>\n",
       "      <td>1,671.4</td>\n",
       "      <td>Fribourg</td>\n",
       "      <td>2021</td>\n",
       "    </tr>\n",
       "    <tr>\n",
       "      <th>19</th>\n",
       "      <td>Total surface area in km²</td>\n",
       "      <td>2016</td>\n",
       "      <td>5,959.4</td>\n",
       "      <td>Bern</td>\n",
       "      <td>2021</td>\n",
       "    </tr>\n",
       "    <tr>\n",
       "      <th>20</th>\n",
       "      <td>Total surface area in km²</td>\n",
       "      <td>2016</td>\n",
       "      <td>37.0</td>\n",
       "      <td>Basel-Stadt</td>\n",
       "      <td>2021</td>\n",
       "    </tr>\n",
       "    <tr>\n",
       "      <th>21</th>\n",
       "      <td>Total surface area in km²</td>\n",
       "      <td>2016</td>\n",
       "      <td>517.7</td>\n",
       "      <td>Basel-Landschaft</td>\n",
       "      <td>2021</td>\n",
       "    </tr>\n",
       "    <tr>\n",
       "      <th>22</th>\n",
       "      <td>Total surface area in km²</td>\n",
       "      <td>2016</td>\n",
       "      <td>172.4</td>\n",
       "      <td>Appenzell Innerrhoden</td>\n",
       "      <td>2021</td>\n",
       "    </tr>\n",
       "    <tr>\n",
       "      <th>23</th>\n",
       "      <td>Total surface area in km²</td>\n",
       "      <td>2016</td>\n",
       "      <td>242.9</td>\n",
       "      <td>Appenzell Ausserrhoden</td>\n",
       "      <td>2021</td>\n",
       "    </tr>\n",
       "    <tr>\n",
       "      <th>24</th>\n",
       "      <td>Total surface area in km²</td>\n",
       "      <td>2016</td>\n",
       "      <td>238.7</td>\n",
       "      <td>Zug</td>\n",
       "      <td>2021</td>\n",
       "    </tr>\n",
       "    <tr>\n",
       "      <th>25</th>\n",
       "      <td>Total surface area in km²</td>\n",
       "      <td>2016</td>\n",
       "      <td>1,493.3</td>\n",
       "      <td>Lucerne</td>\n",
       "      <td>2021</td>\n",
       "    </tr>\n",
       "    <tr>\n",
       "      <th>26</th>\n",
       "      <td>Total surface area in km²</td>\n",
       "      <td>2016</td>\n",
       "      <td>41,290.4</td>\n",
       "      <td>Switzerland</td>\n",
       "      <td>2021</td>\n",
       "    </tr>\n",
       "  </tbody>\n",
       "</table>\n",
       "</div>"
      ],
      "text/plain": [
       "                        title  year     value                  canton  \\\n",
       "0   Total surface area in km²  2016   1,404.0                  Aargau   \n",
       "1   Total surface area in km²  2016   3,212.2                    Vaud   \n",
       "2   Total surface area in km²  2016   5,224.8                  Valais   \n",
       "3   Total surface area in km²  2016   1,076.3                     Uri   \n",
       "4   Total surface area in km²  2016   2,812.3                  Ticino   \n",
       "5   Total surface area in km²  2016     991.5                 Thurgau   \n",
       "6   Total surface area in km²  2016     790.4               Solothurn   \n",
       "7   Total surface area in km²  2016     908.0                  Schwyz   \n",
       "8   Total surface area in km²  2016     298.4            Schaffhausen   \n",
       "9   Total surface area in km²  2016   2,030.7            Saint Gallen   \n",
       "10  Total surface area in km²  2016     490.6                Obwalden   \n",
       "11  Total surface area in km²  2016     275.9               Nidwalden   \n",
       "12  Total surface area in km²  2016   1,728.9                  Zurich   \n",
       "13  Total surface area in km²  2016     802.3               Neuchâtel   \n",
       "14  Total surface area in km²  2016     838.6                    Jura   \n",
       "15  Total surface area in km²  2016   7,105.0              Graubünden   \n",
       "16  Total surface area in km²  2016     685.4                  Glarus   \n",
       "17  Total surface area in km²  2016     282.3                  Geneva   \n",
       "18  Total surface area in km²  2016   1,671.4                Fribourg   \n",
       "19  Total surface area in km²  2016   5,959.4                    Bern   \n",
       "20  Total surface area in km²  2016      37.0             Basel-Stadt   \n",
       "21  Total surface area in km²  2016     517.7        Basel-Landschaft   \n",
       "22  Total surface area in km²  2016     172.4   Appenzell Innerrhoden   \n",
       "23  Total surface area in km²  2016     242.9  Appenzell Ausserrhoden   \n",
       "24  Total surface area in km²  2016     238.7                     Zug   \n",
       "25  Total surface area in km²  2016   1,493.3                 Lucerne   \n",
       "26  Total surface area in km²  2016  41,290.4             Switzerland   \n",
       "\n",
       "    file_year  \n",
       "0        2021  \n",
       "1        2021  \n",
       "2        2021  \n",
       "3        2021  \n",
       "4        2021  \n",
       "5        2021  \n",
       "6        2021  \n",
       "7        2021  \n",
       "8        2021  \n",
       "9        2021  \n",
       "10       2021  \n",
       "11       2021  \n",
       "12       2021  \n",
       "13       2021  \n",
       "14       2021  \n",
       "15       2021  \n",
       "16       2021  \n",
       "17       2021  \n",
       "18       2021  \n",
       "19       2021  \n",
       "20       2021  \n",
       "21       2021  \n",
       "22       2021  \n",
       "23       2021  \n",
       "24       2021  \n",
       "25       2021  \n",
       "26       2021  "
      ]
     },
     "execution_count": 50,
     "metadata": {},
     "output_type": "execute_result"
    }
   ],
   "source": [
    "area = value_column(full_df, 'Total surface area in km²')\n",
    "area = area[area['year'] == '2016'].sort_values(by='year').reset_index(drop=True)\n",
    "area"
   ]
  },
  {
   "cell_type": "code",
   "execution_count": 51,
   "id": "127d7b90",
   "metadata": {},
   "outputs": [],
   "source": [
    "area.to_csv('processed/area.tsv', sep='\\t', index=False)"
   ]
  },
  {
   "cell_type": "code",
   "execution_count": 52,
   "id": "2bf51c3d",
   "metadata": {},
   "outputs": [
    {
     "data": {
      "text/html": [
       "<div>\n",
       "<style scoped>\n",
       "    .dataframe tbody tr th:only-of-type {\n",
       "        vertical-align: middle;\n",
       "    }\n",
       "\n",
       "    .dataframe tbody tr th {\n",
       "        vertical-align: top;\n",
       "    }\n",
       "\n",
       "    .dataframe thead th {\n",
       "        text-align: right;\n",
       "    }\n",
       "</style>\n",
       "<table border=\"1\" class=\"dataframe\">\n",
       "  <thead>\n",
       "    <tr style=\"text-align: right;\">\n",
       "      <th></th>\n",
       "      <th>title</th>\n",
       "      <th>year</th>\n",
       "      <th>value</th>\n",
       "      <th>canton</th>\n",
       "      <th>file_year</th>\n",
       "    </tr>\n",
       "  </thead>\n",
       "  <tbody>\n",
       "  </tbody>\n",
       "</table>\n",
       "</div>"
      ],
      "text/plain": [
       "Empty DataFrame\n",
       "Columns: [title, year, value, canton, file_year]\n",
       "Index: []"
      ]
     },
     "execution_count": 52,
     "metadata": {},
     "output_type": "execute_result"
    }
   ],
   "source": [
    "value_column(full_df, 'Total surface area in km2')"
   ]
  },
  {
   "cell_type": "code",
   "execution_count": 54,
   "id": "cb89a8f8",
   "metadata": {},
   "outputs": [
    {
     "data": {
      "text/plain": [
       "year\n",
       "2011    27\n",
       "2012    27\n",
       "2013    27\n",
       "2014    27\n",
       "2015    27\n",
       "2016    27\n",
       "2017    27\n",
       "2018    27\n",
       "2019    27\n",
       "2020    27\n",
       "Name: count, dtype: int64"
      ]
     },
     "execution_count": 54,
     "metadata": {},
     "output_type": "execute_result"
    }
   ],
   "source": [
    "unemploy = pd.concat([value_column(full_df, 'Unemployment rate in % (according to the SECO)'), value_column(full_df, 'Unemployment rate in % (annual average)'), value_column(full_df, 'Unemployment rate in % (according to SECO)'), value_column(full_df, 'Unemployment rate (according to SECO)')], ignore_index=True).sort_values(by='year').reset_index(drop=True)\n",
    "unemploy['year'].value_counts()"
   ]
  },
  {
   "cell_type": "code",
   "execution_count": 55,
   "id": "af77525d",
   "metadata": {},
   "outputs": [],
   "source": [
    "unemploy.to_csv('processed/unemployment_rate.tsv', sep='\\t', index=False)"
   ]
  },
  {
   "cell_type": "code",
   "execution_count": 56,
   "id": "fb89134c",
   "metadata": {},
   "outputs": [
    {
     "data": {
      "text/plain": [
       "year\n",
       "2012    27\n",
       "2013    27\n",
       "2014    27\n",
       "2016    27\n",
       "2017    27\n",
       "2018    27\n",
       "2019    27\n",
       "Name: count, dtype: int64"
      ]
     },
     "execution_count": 56,
     "metadata": {},
     "output_type": "execute_result"
    }
   ],
   "source": [
    "some_hospital_bed = value_column(full_df, 'Hospital beds per 1000 inhabitants')\n",
    "some_hospital_bed = some_hospital_bed[some_hospital_bed['file_year'] != 2014].reset_index(drop=True)\n",
    "some_hospital_bed['year'].value_counts()"
   ]
  },
  {
   "cell_type": "code",
   "execution_count": 57,
   "id": "7f07ca62",
   "metadata": {},
   "outputs": [
    {
     "data": {
      "text/plain": [
       "year\n",
       "2009    27\n",
       "2011    27\n",
       "2012    27\n",
       "2013    27\n",
       "2014    27\n",
       "2016    27\n",
       "2017    27\n",
       "2018    27\n",
       "2019    27\n",
       "Name: count, dtype: int64"
      ]
     },
     "execution_count": 57,
     "metadata": {},
     "output_type": "execute_result"
    }
   ],
   "source": [
    "hospital_bed = pd.concat([some_hospital_bed, value_column(full_df, 'Hospital beds per 1000 people')], ignore_index=True).sort_values(by='year').reset_index(drop=True)\n",
    "hospital_bed['year'].value_counts()"
   ]
  },
  {
   "cell_type": "code",
   "execution_count": 58,
   "id": "9c6912d1",
   "metadata": {},
   "outputs": [],
   "source": [
    "hospital_bed.to_csv('processed/hospital_beds_per1000.tsv', sep='\\t', index=False)"
   ]
  },
  {
   "cell_type": "code",
   "execution_count": 59,
   "id": "9bf3f856",
   "metadata": {},
   "outputs": [
    {
     "data": {
      "text/plain": [
       "year\n",
       "2010    27\n",
       "2012    27\n",
       "2013    27\n",
       "2014    27\n",
       "2016    27\n",
       "2017    27\n",
       "2018    27\n",
       "2019    27\n",
       "Name: count, dtype: int64"
      ]
     },
     "execution_count": 59,
     "metadata": {},
     "output_type": "execute_result"
    }
   ],
   "source": [
    "some_no_edu = value_column(full_df, 'Without post-compulsory education')\n",
    "some_no_edu = some_no_edu[some_no_edu['file_year'] != 2014].reset_index(drop=True)\n",
    "some_no_edu['year'].value_counts()"
   ]
  },
  {
   "cell_type": "code",
   "execution_count": 60,
   "id": "ddae704a",
   "metadata": {},
   "outputs": [
    {
     "data": {
      "text/plain": [
       "year\n",
       "2000    27\n",
       "2010    27\n",
       "2012    27\n",
       "2013    27\n",
       "2014    27\n",
       "2016    27\n",
       "2017    27\n",
       "2018    27\n",
       "2019    27\n",
       "Name: count, dtype: int64"
      ]
     },
     "execution_count": 60,
     "metadata": {},
     "output_type": "execute_result"
    }
   ],
   "source": [
    "without_post_compulsory_edu = pd.concat([value_column(full_df, 'Without post-mandatory education'), some_no_edu], ignore_index=True).sort_values(by='year').reset_index(drop=True)\n",
    "without_post_compulsory_edu['year'].value_counts()"
   ]
  },
  {
   "cell_type": "code",
   "execution_count": 61,
   "id": "5bb65318",
   "metadata": {},
   "outputs": [],
   "source": [
    "without_post_compulsory_edu.to_csv('processed/without_post_compulsory_education.tsv', sep='\\t', index=False)"
   ]
  },
  {
   "cell_type": "code",
   "execution_count": 62,
   "id": "7c374e0a",
   "metadata": {},
   "outputs": [
    {
     "data": {
      "text/plain": [
       "year\n",
       "2013    27\n",
       "2014    27\n",
       "2015    27\n",
       "2016    27\n",
       "2017    27\n",
       "2018    27\n",
       "2019    27\n",
       "Name: count, dtype: int64"
      ]
     },
     "execution_count": 62,
     "metadata": {},
     "output_type": "execute_result"
    }
   ],
   "source": [
    "crime_rate = value_column(full_df, 'under the Swiss Criminal Code')\n",
    "crime_rate['year'].value_counts()"
   ]
  },
  {
   "cell_type": "code",
   "execution_count": 63,
   "id": "91c5d0f4",
   "metadata": {},
   "outputs": [],
   "source": [
    "crime_rate.to_csv('processed/crime_rate.tsv', sep='\\t', index=False)"
   ]
  },
  {
   "cell_type": "code",
   "execution_count": null,
   "id": "8b3b5728",
   "metadata": {},
   "outputs": [],
   "source": []
  }
 ],
 "metadata": {
  "kernelspec": {
   "display_name": "ada",
   "language": "python",
   "name": "python3"
  },
  "language_info": {
   "codemirror_mode": {
    "name": "ipython",
    "version": 3
   },
   "file_extension": ".py",
   "mimetype": "text/x-python",
   "name": "python",
   "nbconvert_exporter": "python",
   "pygments_lexer": "ipython3",
   "version": "3.12.6"
  }
 },
 "nbformat": 4,
 "nbformat_minor": 5
}
