{
 "cells": [
  {
   "cell_type": "code",
   "execution_count": 1,
   "id": "de8465d8",
   "metadata": {},
   "outputs": [],
   "source": [
    "import pandas as pd"
   ]
  },
  {
   "cell_type": "code",
   "execution_count": 2,
   "id": "b63e06c9",
   "metadata": {},
   "outputs": [
    {
     "name": "stdout",
     "output_type": "stream",
     "text": [
      "<class 'pandas.core.frame.DataFrame'>\n",
      "RangeIndex: 18414 entries, 0 to 18413\n",
      "Data columns (total 5 columns):\n",
      " #   Column     Non-Null Count  Dtype \n",
      "---  ------     --------------  ----- \n",
      " 0   title      18414 non-null  object\n",
      " 1   year       18414 non-null  object\n",
      " 2   value      18414 non-null  object\n",
      " 3   canton     18414 non-null  object\n",
      " 4   file_year  18414 non-null  int64 \n",
      "dtypes: int64(1), object(4)\n",
      "memory usage: 719.4+ KB\n"
     ]
    }
   ],
   "source": [
    "full_df = pd.read_csv('processed/2012-2021.tsv', sep='\\t')\n",
    "full_df.info()"
   ]
  },
  {
   "cell_type": "code",
   "execution_count": 3,
   "id": "48527cea",
   "metadata": {},
   "outputs": [
    {
     "data": {
      "text/html": [
       "<div>\n",
       "<style scoped>\n",
       "    .dataframe tbody tr th:only-of-type {\n",
       "        vertical-align: middle;\n",
       "    }\n",
       "\n",
       "    .dataframe tbody tr th {\n",
       "        vertical-align: top;\n",
       "    }\n",
       "\n",
       "    .dataframe thead th {\n",
       "        text-align: right;\n",
       "    }\n",
       "</style>\n",
       "<table border=\"1\" class=\"dataframe\">\n",
       "  <thead>\n",
       "    <tr style=\"text-align: right;\">\n",
       "      <th></th>\n",
       "      <th>title</th>\n",
       "      <th>year</th>\n",
       "      <th>value</th>\n",
       "      <th>canton</th>\n",
       "      <th>file_year</th>\n",
       "    </tr>\n",
       "  </thead>\n",
       "  <tbody>\n",
       "    <tr>\n",
       "      <th>0</th>\n",
       "      <td>Residents</td>\n",
       "      <td>2010</td>\n",
       "      <td>611,466</td>\n",
       "      <td>Aargau</td>\n",
       "      <td>2012</td>\n",
       "    </tr>\n",
       "    <tr>\n",
       "      <th>1</th>\n",
       "      <td>Population density per km2</td>\n",
       "      <td>2010</td>\n",
       "      <td>438</td>\n",
       "      <td>Aargau</td>\n",
       "      <td>2012</td>\n",
       "    </tr>\n",
       "    <tr>\n",
       "      <th>2</th>\n",
       "      <td>Change in the last 10 years in %</td>\n",
       "      <td>2000-2010</td>\n",
       "      <td>1.2</td>\n",
       "      <td>Aargau</td>\n",
       "      <td>2012</td>\n",
       "    </tr>\n",
       "    <tr>\n",
       "      <th>3</th>\n",
       "      <td>Through migration</td>\n",
       "      <td>2000-2010</td>\n",
       "      <td>9.5</td>\n",
       "      <td>Aargau</td>\n",
       "      <td>2012</td>\n",
       "    </tr>\n",
       "    <tr>\n",
       "      <th>4</th>\n",
       "      <td>Through natural increase</td>\n",
       "      <td>2000-2010</td>\n",
       "      <td>2.8</td>\n",
       "      <td>Aargau</td>\n",
       "      <td>2012</td>\n",
       "    </tr>\n",
       "  </tbody>\n",
       "</table>\n",
       "</div>"
      ],
      "text/plain": [
       "                              title       year    value  canton  file_year\n",
       "0                         Residents       2010  611,466  Aargau       2012\n",
       "1        Population density per km2       2010      438  Aargau       2012\n",
       "2  Change in the last 10 years in %  2000-2010      1.2  Aargau       2012\n",
       "3                 Through migration  2000-2010      9.5  Aargau       2012\n",
       "4          Through natural increase  2000-2010      2.8  Aargau       2012"
      ]
     },
     "execution_count": 3,
     "metadata": {},
     "output_type": "execute_result"
    }
   ],
   "source": [
    "full_df.head()"
   ]
  },
  {
   "cell_type": "code",
   "execution_count": 4,
   "id": "766ebd61",
   "metadata": {},
   "outputs": [],
   "source": [
    "def value_column(df, value, column='title'):\n",
    "    return df[df[column] == value].copy().sort_values(by='year').reset_index(drop=True)"
   ]
  },
  {
   "cell_type": "code",
   "execution_count": 5,
   "id": "a52af873",
   "metadata": {},
   "outputs": [],
   "source": [
    "population_df = full_df[full_df['title'] == 'Residents'].reset_index(drop=True)"
   ]
  },
  {
   "cell_type": "code",
   "execution_count": 6,
   "id": "a41e087b",
   "metadata": {},
   "outputs": [
    {
     "data": {
      "text/html": [
       "<div>\n",
       "<style scoped>\n",
       "    .dataframe tbody tr th:only-of-type {\n",
       "        vertical-align: middle;\n",
       "    }\n",
       "\n",
       "    .dataframe tbody tr th {\n",
       "        vertical-align: top;\n",
       "    }\n",
       "\n",
       "    .dataframe thead th {\n",
       "        text-align: right;\n",
       "    }\n",
       "</style>\n",
       "<table border=\"1\" class=\"dataframe\">\n",
       "  <thead>\n",
       "    <tr style=\"text-align: right;\">\n",
       "      <th></th>\n",
       "      <th>title</th>\n",
       "      <th>year</th>\n",
       "      <th>value</th>\n",
       "      <th>canton</th>\n",
       "      <th>file_year</th>\n",
       "    </tr>\n",
       "  </thead>\n",
       "  <tbody>\n",
       "    <tr>\n",
       "      <th>0</th>\n",
       "      <td>Residents</td>\n",
       "      <td>2010</td>\n",
       "      <td>611,466</td>\n",
       "      <td>Aargau</td>\n",
       "      <td>2012</td>\n",
       "    </tr>\n",
       "    <tr>\n",
       "      <th>1</th>\n",
       "      <td>Residents</td>\n",
       "      <td>2010</td>\n",
       "      <td>53,017</td>\n",
       "      <td>Appenzell</td>\n",
       "      <td>2012</td>\n",
       "    </tr>\n",
       "    <tr>\n",
       "      <th>2</th>\n",
       "      <td>Residents</td>\n",
       "      <td>2010</td>\n",
       "      <td>15,688</td>\n",
       "      <td>Appenzell</td>\n",
       "      <td>2012</td>\n",
       "    </tr>\n",
       "    <tr>\n",
       "      <th>3</th>\n",
       "      <td>Residents</td>\n",
       "      <td>2010</td>\n",
       "      <td>274,404</td>\n",
       "      <td>Basel-Landschaft</td>\n",
       "      <td>2012</td>\n",
       "    </tr>\n",
       "    <tr>\n",
       "      <th>4</th>\n",
       "      <td>Residents</td>\n",
       "      <td>2010</td>\n",
       "      <td>184,950</td>\n",
       "      <td>Basel-Stadt</td>\n",
       "      <td>2012</td>\n",
       "    </tr>\n",
       "  </tbody>\n",
       "</table>\n",
       "</div>"
      ],
      "text/plain": [
       "       title  year    value            canton  file_year\n",
       "0  Residents  2010  611,466            Aargau       2012\n",
       "1  Residents  2010   53,017         Appenzell       2012\n",
       "2  Residents  2010   15,688         Appenzell       2012\n",
       "3  Residents  2010  274,404  Basel-Landschaft       2012\n",
       "4  Residents  2010  184,950       Basel-Stadt       2012"
      ]
     },
     "execution_count": 6,
     "metadata": {},
     "output_type": "execute_result"
    }
   ],
   "source": [
    "population_df.head()"
   ]
  },
  {
   "cell_type": "code",
   "execution_count": 7,
   "id": "b632d932",
   "metadata": {},
   "outputs": [
    {
     "data": {
      "text/plain": [
       "year\n",
       "2010    27\n",
       "2011    27\n",
       "2012    27\n",
       "2013    27\n",
       "2014    27\n",
       "2015    27\n",
       "2016    27\n",
       "2017    27\n",
       "2018    27\n",
       "2019    27\n",
       "Name: count, dtype: int64"
      ]
     },
     "execution_count": 7,
     "metadata": {},
     "output_type": "execute_result"
    }
   ],
   "source": [
    "population_df.sort_values(by=['year'])['year'].value_counts()"
   ]
  },
  {
   "cell_type": "code",
   "execution_count": 8,
   "id": "7e8b88ef",
   "metadata": {},
   "outputs": [],
   "source": [
    "population_df.to_csv('processed/population.tsv', sep='\\t', index=False)"
   ]
  },
  {
   "cell_type": "code",
   "execution_count": 9,
   "id": "6553b4cb",
   "metadata": {},
   "outputs": [],
   "source": [
    "population_density_df = full_df[(full_df['title'] == 'Population density per km2') | (full_df['title'] == 'Population density per km²')].reset_index(drop=True).sort_values(by=['year'])"
   ]
  },
  {
   "cell_type": "code",
   "execution_count": 10,
   "id": "42ec8537",
   "metadata": {},
   "outputs": [
    {
     "data": {
      "text/plain": [
       "year\n",
       "2010    27\n",
       "2011    27\n",
       "2012    27\n",
       "2013    27\n",
       "2014    27\n",
       "2015    27\n",
       "2016    27\n",
       "2017    27\n",
       "2018    27\n",
       "2019    27\n",
       "Name: count, dtype: int64"
      ]
     },
     "execution_count": 10,
     "metadata": {},
     "output_type": "execute_result"
    }
   ],
   "source": [
    "population_density_df['year'].value_counts()"
   ]
  },
  {
   "cell_type": "code",
   "execution_count": 11,
   "id": "eb5fb141",
   "metadata": {},
   "outputs": [
    {
     "data": {
      "text/html": [
       "<div>\n",
       "<style scoped>\n",
       "    .dataframe tbody tr th:only-of-type {\n",
       "        vertical-align: middle;\n",
       "    }\n",
       "\n",
       "    .dataframe tbody tr th {\n",
       "        vertical-align: top;\n",
       "    }\n",
       "\n",
       "    .dataframe thead th {\n",
       "        text-align: right;\n",
       "    }\n",
       "</style>\n",
       "<table border=\"1\" class=\"dataframe\">\n",
       "  <thead>\n",
       "    <tr style=\"text-align: right;\">\n",
       "      <th></th>\n",
       "      <th>title</th>\n",
       "      <th>year</th>\n",
       "      <th>value</th>\n",
       "      <th>canton</th>\n",
       "      <th>file_year</th>\n",
       "    </tr>\n",
       "  </thead>\n",
       "  <tbody>\n",
       "    <tr>\n",
       "      <th>0</th>\n",
       "      <td>Population density per km2</td>\n",
       "      <td>2010</td>\n",
       "      <td>438</td>\n",
       "      <td>Aargau</td>\n",
       "      <td>2012</td>\n",
       "    </tr>\n",
       "    <tr>\n",
       "      <th>26</th>\n",
       "      <td>Population density per km2</td>\n",
       "      <td>2010</td>\n",
       "      <td>197</td>\n",
       "      <td>Switzerland</td>\n",
       "      <td>2012</td>\n",
       "    </tr>\n",
       "    <tr>\n",
       "      <th>25</th>\n",
       "      <td>Population density per km2</td>\n",
       "      <td>2010</td>\n",
       "      <td>827</td>\n",
       "      <td>Zurich</td>\n",
       "      <td>2012</td>\n",
       "    </tr>\n",
       "    <tr>\n",
       "      <th>24</th>\n",
       "      <td>Population density per km2</td>\n",
       "      <td>2010</td>\n",
       "      <td>546</td>\n",
       "      <td>Zug</td>\n",
       "      <td>2012</td>\n",
       "    </tr>\n",
       "    <tr>\n",
       "      <th>23</th>\n",
       "      <td>Population density per km2</td>\n",
       "      <td>2010</td>\n",
       "      <td>253</td>\n",
       "      <td>Vaud</td>\n",
       "      <td>2012</td>\n",
       "    </tr>\n",
       "  </tbody>\n",
       "</table>\n",
       "</div>"
      ],
      "text/plain": [
       "                         title  year value       canton  file_year\n",
       "0   Population density per km2  2010   438       Aargau       2012\n",
       "26  Population density per km2  2010   197  Switzerland       2012\n",
       "25  Population density per km2  2010   827       Zurich       2012\n",
       "24  Population density per km2  2010   546          Zug       2012\n",
       "23  Population density per km2  2010   253         Vaud       2012"
      ]
     },
     "execution_count": 11,
     "metadata": {},
     "output_type": "execute_result"
    }
   ],
   "source": [
    "population_density_df.head()"
   ]
  },
  {
   "cell_type": "code",
   "execution_count": 12,
   "id": "b542e87c",
   "metadata": {},
   "outputs": [],
   "source": [
    "population_density_df.to_csv('processed/population_density.tsv', sep='\\t', index=False)"
   ]
  },
  {
   "cell_type": "code",
   "execution_count": 13,
   "id": "6b134a8b",
   "metadata": {},
   "outputs": [],
   "source": [
    "df_0_19 = value_column(full_df, '0-19 years')\n",
    "df_20_64 = value_column(full_df, '20-64 years')\n",
    "df_65_plus = pd.concat([value_column(full_df, '65 years or over'), value_column(full_df, '>64 years')], ignore_index=True).reset_index(drop=True)\n"
   ]
  },
  {
   "cell_type": "code",
   "execution_count": 14,
   "id": "9c806fd8",
   "metadata": {},
   "outputs": [
    {
     "data": {
      "text/plain": [
       "(270, 270, 270)"
      ]
     },
     "execution_count": 14,
     "metadata": {},
     "output_type": "execute_result"
    }
   ],
   "source": [
    "len(df_0_19), len(df_20_64), len(df_65_plus)"
   ]
  },
  {
   "cell_type": "code",
   "execution_count": 15,
   "id": "21bfd3c4",
   "metadata": {},
   "outputs": [],
   "source": [
    "# save to tsv\n",
    "df_0_19.to_csv('processed/age_0_19.tsv', sep='\\t', index=False)\n",
    "df_20_64.to_csv('processed/age_20_64.tsv', sep='\\t', index=False)\n",
    "df_65_plus.to_csv('processed/age_65_plus.tsv', sep='\\t', index=False)"
   ]
  },
  {
   "cell_type": "code",
   "execution_count": 17,
   "id": "ede6cdb8",
   "metadata": {},
   "outputs": [
    {
     "data": {
      "text/plain": [
       "year\n",
       "2010    27\n",
       "2011    27\n",
       "2012    27\n",
       "2013    27\n",
       "2014    27\n",
       "2015    27\n",
       "2016    27\n",
       "2017    27\n",
       "2018    27\n",
       "2019    27\n",
       "Name: count, dtype: int64"
      ]
     },
     "execution_count": 17,
     "metadata": {},
     "output_type": "execute_result"
    }
   ],
   "source": [
    "urban_population_proportion_df = value_column(full_df, 'Urban population in %')\n",
    "urban_population_proportion_df['year'].value_counts()"
   ]
  },
  {
   "cell_type": "code",
   "execution_count": 18,
   "id": "1b25bbfd",
   "metadata": {},
   "outputs": [],
   "source": [
    "urban_population_proportion_df.to_csv('processed/urban_population_proportion.tsv', sep='\\t', index=False)"
   ]
  },
  {
   "cell_type": "code",
   "execution_count": null,
   "id": "bb64226f",
   "metadata": {},
   "outputs": [
    {
     "data": {
      "text/plain": [
       "year\n",
       "2013    27\n",
       "2014    27\n",
       "2015    27\n",
       "2016    27\n",
       "2017    27\n",
       "2018    27\n",
       "2019    27\n",
       "Name: count, dtype: int64"
      ]
     },
     "execution_count": 26,
     "metadata": {},
     "output_type": "execute_result"
    }
   ],
   "source": [
    "marriage_rate = value_column(full_df, 'Crude marriage rate')\n",
    "marriage_rate['year'].value_counts()"
   ]
  },
  {
   "cell_type": "code",
   "execution_count": 27,
   "id": "e4de6c56",
   "metadata": {},
   "outputs": [],
   "source": [
    "marriage_rate.to_csv('processed/marriage_rate.tsv', sep='\\t', index=False)"
   ]
  },
  {
   "cell_type": "code",
   "execution_count": 28,
   "id": "6eaad8ca",
   "metadata": {},
   "outputs": [
    {
     "data": {
      "text/plain": [
       "year\n",
       "2013    27\n",
       "2014    27\n",
       "2015    27\n",
       "2016    27\n",
       "2017    27\n",
       "2018    27\n",
       "2019    27\n",
       "Name: count, dtype: int64"
      ]
     },
     "execution_count": 28,
     "metadata": {},
     "output_type": "execute_result"
    }
   ],
   "source": [
    "divorce_rate = value_column(full_df, 'Crude divorce rate')\n",
    "divorce_rate['year'].value_counts()"
   ]
  },
  {
   "cell_type": "code",
   "execution_count": 29,
   "id": "0fa4628f",
   "metadata": {},
   "outputs": [],
   "source": [
    "divorce_rate.to_csv('processed/divorce_rate.tsv', sep='\\t', index=False)"
   ]
  },
  {
   "cell_type": "code",
   "execution_count": null,
   "id": "4f63a5dc",
   "metadata": {},
   "outputs": [],
   "source": [
    "birth_rate = value_column(full_df, 'Crude birth rate')\n",
    "birth_rate['year'].value_counts()"
   ]
  },
  {
   "cell_type": "code",
   "execution_count": 31,
   "id": "ecdff8fa",
   "metadata": {},
   "outputs": [],
   "source": [
    "birth_rate.to_csv('processed/birth_rate.tsv', sep='\\t', index=False)"
   ]
  },
  {
   "cell_type": "code",
   "execution_count": 33,
   "id": "6828bb57",
   "metadata": {},
   "outputs": [
    {
     "data": {
      "text/plain": [
       "year\n",
       "2013    27\n",
       "2014    27\n",
       "2015    27\n",
       "2016    27\n",
       "2017    27\n",
       "2018    27\n",
       "2019    27\n",
       "Name: count, dtype: int64"
      ]
     },
     "execution_count": 33,
     "metadata": {},
     "output_type": "execute_result"
    }
   ],
   "source": [
    "mortality_rate = value_column(full_df, 'Crude mortality rate')\n",
    "mortality_rate['year'].value_counts()"
   ]
  },
  {
   "cell_type": "code",
   "execution_count": 34,
   "id": "3c09445f",
   "metadata": {},
   "outputs": [],
   "source": [
    "mortality_rate.to_csv('processed/mortality_rate.tsv', sep='\\t', index=False)"
   ]
  },
  {
   "cell_type": "code",
   "execution_count": null,
   "id": "4cb756a7",
   "metadata": {},
   "outputs": [],
   "source": []
  }
 ],
 "metadata": {
  "kernelspec": {
   "display_name": "ada",
   "language": "python",
   "name": "python3"
  },
  "language_info": {
   "codemirror_mode": {
    "name": "ipython",
    "version": 3
   },
   "file_extension": ".py",
   "mimetype": "text/x-python",
   "name": "python",
   "nbconvert_exporter": "python",
   "pygments_lexer": "ipython3",
   "version": "3.12.6"
  }
 },
 "nbformat": 4,
 "nbformat_minor": 5
}
